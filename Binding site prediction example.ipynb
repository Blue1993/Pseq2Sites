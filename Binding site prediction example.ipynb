{
 "cells": [
  {
   "cell_type": "code",
   "execution_count": 1,
   "id": "bf3ab8c4",
   "metadata": {},
   "outputs": [],
   "source": [
    "import yaml\n",
    "import os\n",
    "import logging\n",
    "import sys\n",
    "import pandas as pd\n",
    "import numpy as np\n",
    "import pickle\n",
    "import argparse"
   ]
  },
  {
   "cell_type": "code",
   "execution_count": 2,
   "id": "743b546f",
   "metadata": {},
   "outputs": [],
   "source": [
    "from modules.utils import load_cfg\n",
    "from modules.data import PocketDataset, Dataloader\n",
    "from modules.TrainIters import Pseq2SitesTrainIter\n",
    "from modules.helpers import *"
   ]
  },
  {
   "cell_type": "markdown",
   "id": "d08e1236",
   "metadata": {},
   "source": [
    "### 1. Load data"
   ]
  },
  {
   "cell_type": "code",
   "execution_count": 3,
   "id": "c2aab918",
   "metadata": {},
   "outputs": [
    {
     "name": "stdout",
     "output_type": "stream",
     "text": [
      "2023-03-21 14:18:25,977 ERROR /data/BA_CM/tmp/Pseq2Sites/results/CV does not exist.\n",
      "2023-03-21 14:18:25,978 ERROR /data/BA_CM/tmp/Pseq2Sites/results/prediction.tsv does not exist.\n"
     ]
    }
   ],
   "source": [
    "config = load_cfg(\"./configuration.yml\")"
   ]
  },
  {
   "cell_type": "code",
   "execution_count": 4,
   "id": "32dd71bd",
   "metadata": {},
   "outputs": [],
   "source": [
    "with open(config[\"paths\"][\"prot_feats\"], \"rb\") as f:\n",
    "    IDs, sequences, binding_sites, protein_feats = pickle.load(f)  "
   ]
  },
  {
   "cell_type": "markdown",
   "id": "25802f53",
   "metadata": {},
   "source": [
    "### 2. Make loader"
   ]
  },
  {
   "cell_type": "code",
   "execution_count": 5,
   "id": "bd843652",
   "metadata": {},
   "outputs": [],
   "source": [
    "dataset = PocketDataset(IDs, protein_feats, sequences)"
   ]
  },
  {
   "cell_type": "code",
   "execution_count": 6,
   "id": "f70afb32",
   "metadata": {},
   "outputs": [],
   "source": [
    "loader = Dataloader(dataset, batch_size = config[\"train\"][\"batch_size\"], shuffle = False)"
   ]
  },
  {
   "cell_type": "markdown",
   "id": "e323c3b0",
   "metadata": {},
   "source": [
    "### 3. Binding sites prediction"
   ]
  },
  {
   "cell_type": "code",
   "execution_count": 7,
   "id": "cecc932f",
   "metadata": {},
   "outputs": [],
   "source": [
    "trainiter = Pseq2SitesTrainIter(config)"
   ]
  },
  {
   "cell_type": "code",
   "execution_count": 8,
   "id": "04ad05b4",
   "metadata": {},
   "outputs": [
    {
     "name": "stderr",
     "output_type": "stream",
     "text": [
      "/home/drugdesign/anaconda3/envs/cma/lib/python3.7/site-packages/torch/nn/functional.py:1639: UserWarning: nn.functional.sigmoid is deprecated. Use torch.sigmoid instead.\n",
      "  warnings.warn(\"nn.functional.sigmoid is deprecated. Use torch.sigmoid instead.\")\n"
     ]
    }
   ],
   "source": [
    "predicted_binding_sites = trainiter.run_test(loader, config[\"paths\"][\"model_path\"])"
   ]
  },
  {
   "cell_type": "markdown",
   "id": "7206baf8",
   "metadata": {},
   "source": [
    "### 4. Get result"
   ]
  },
  {
   "cell_type": "code",
   "execution_count": 9,
   "id": "11fd0c68",
   "metadata": {},
   "outputs": [],
   "source": [
    "precision, recall, specificity, ACC, G_mean, F1_score, F2_score = get_results(binding_sites, convert_bs(predicted_binding_sites), sequences)"
   ]
  },
  {
   "cell_type": "code",
   "execution_count": 10,
   "id": "c847ab24",
   "metadata": {},
   "outputs": [
    {
     "name": "stdout",
     "output_type": "stream",
     "text": [
      "> COACH420 dataset results\n",
      "\tPrecision: 0.18, Recall: 0.95, Specficity: 0.76, G-mean: 0.85, Accury: 0.77, F1: 0.3, F2: 0.51\n"
     ]
    }
   ],
   "source": [
    "print(f\"> COACH420 dataset results\")\n",
    "print(f\"\\tPrecision: {precision}, Recall: {recall}, Specficity: {specificity}, G-mean: {G_mean}, Accury: {ACC}, F1: {F1_score}, F2: {F2_score}\")"
   ]
  },
  {
   "cell_type": "code",
   "execution_count": null,
   "id": "5a6f0f13",
   "metadata": {},
   "outputs": [],
   "source": []
  },
  {
   "cell_type": "code",
   "execution_count": null,
   "id": "39b26f7f",
   "metadata": {},
   "outputs": [],
   "source": []
  },
  {
   "cell_type": "code",
   "execution_count": null,
   "id": "fd27fa39",
   "metadata": {},
   "outputs": [],
   "source": []
  },
  {
   "cell_type": "code",
   "execution_count": null,
   "id": "7e3a0ec3",
   "metadata": {},
   "outputs": [],
   "source": []
  },
  {
   "cell_type": "code",
   "execution_count": null,
   "id": "5988ad18",
   "metadata": {},
   "outputs": [],
   "source": []
  },
  {
   "cell_type": "code",
   "execution_count": null,
   "id": "6a36b8c1",
   "metadata": {},
   "outputs": [],
   "source": []
  }
 ],
 "metadata": {
  "kernelspec": {
   "display_name": "Python 3 (ipykernel)",
   "language": "python",
   "name": "python3"
  },
  "language_info": {
   "codemirror_mode": {
    "name": "ipython",
    "version": 3
   },
   "file_extension": ".py",
   "mimetype": "text/x-python",
   "name": "python",
   "nbconvert_exporter": "python",
   "pygments_lexer": "ipython3",
   "version": "3.7.12"
  }
 },
 "nbformat": 4,
 "nbformat_minor": 5
}
